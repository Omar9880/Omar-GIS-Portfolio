{
  "cells": [
    {
      "cell_type": "markdown",
      "id": "052ba062-c0f9-42b9-a1c4-29fa4ad59241",
      "metadata": {
        "id": "052ba062-c0f9-42b9-a1c4-29fa4ad59241"
      },
      "source": [
        "# Heading level 1\n",
        "#Heading level 2\n",
        "**This is a highlight**\n",
        "*This is italic*\n",
        "~strick~\n",
        "***Bold italalic***\n",
        "\n",
        "\n",
        "<a href=\"https://colab.research.google.com/github/gisalgs/notebooks/blob/main/POI-case-study-part1-v2-colab.ipynb\">\n",
        "  <img src=\"https://colab.research.google.com/assets/colab-badge.svg\" alt=\"Open In Colab\"/>\n",
        "</a>\n",
        "\n",
        "# Case Study: Accessibility - Part 1\n",
        "\n",
        "The City of Columbus has put together a collection of points of interest for different functional categories. This data can be viewed at their interactive map https://opendata.columbus.gov/datasets/columbus::points-of-interest/explore. The description of the data can be found at https://maps2.columbus.gov/arcgis/rest/services/Schemas/PointsOfInterest/MapServer/10. The raw geojson file has been posted at https://raw.githubusercontent.com/gisalgs/data/refs/heads/master/columbus_points_of_interest.geojson, which can also be downloaded from their interactive map page. We will use this geojson file in this tutorial.\n",
        "\n",
        "The goal of this tutorial is to demonstrate the use of Python for spatial data analysis. More specifically, we will examine how residents in Franklin county can access some of the services represented in this data set. Of course the data is probably incomplete because it may not fully cover areas outside the city of Columbus and some points of interest may not be included in the data either. The main purpose is to demonstrate the use of data and Python coding to analyze accessibility.\n",
        "\n",
        "It is best to treat this tutorial as a working notebook (it is indeed a Jupyter Notebook). Only the code for the beginning is included. Students will need to type the code by following the video or in-class instruction. Markdown cells should also be used to explain the code.\n",
        "\n",
        "After finishing this tutorial, students should answer the following questions (with code and results from the code):\n",
        "\n",
        "1. How many types of points of interest are represented in the data and how many instances are there in each type?\n",
        "2. How the POIs are distributed on a map?\n",
        "\n",
        "## Environment and Data\n",
        "\n",
        "Since we are going to run every piece of code on a Jupyter Notebook or Jupyter Lab server, we get direct access to the cloud. Luckily everything we use, the data and library will all be available in the cloud.\n",
        "\n",
        "First, let's make sure we have the geometry module used so far in this class cloned in our current working environment. After the following two lines of code, a colder called geom will be created and every file in the geom repo will be cloned to that folder. This allows us to directly use the geom modules without any additional process."
      ]
    },
    {
      "cell_type": "code",
      "execution_count": 1,
      "id": "21630c26-0e89-4a09-89e9-3c597e598810",
      "metadata": {
        "colab": {
          "base_uri": "https://localhost:8080/"
        },
        "id": "21630c26-0e89-4a09-89e9-3c597e598810",
        "outputId": "06928ad2-3d36-4d13-efae-9e2834bf86dd"
      },
      "outputs": [
        {
          "output_type": "stream",
          "name": "stdout",
          "text": [
            "Cloning into 'geom'...\n",
            "remote: Enumerating objects: 375, done.\u001b[K\n",
            "remote: Counting objects: 100% (61/61), done.\u001b[K\n",
            "remote: Compressing objects: 100% (59/59), done.\u001b[K\n",
            "remote: Total 375 (delta 27), reused 6 (delta 2), pack-reused 314 (from 1)\u001b[K\n",
            "Receiving objects: 100% (375/375), 98.96 KiB | 4.71 MiB/s, done.\n",
            "Resolving deltas: 100% (204/204), done.\n"
          ]
        }
      ],
      "source": [
        "!rm -rf geom\n",
        "!git clone https://github.com/gisalgs/geom.git"
      ]
    },
    {
      "cell_type": "code",
      "source": [
        "from geom.point import *"
      ],
      "metadata": {
        "id": "kg1yBq8k1A8o"
      },
      "id": "kg1yBq8k1A8o",
      "execution_count": 10,
      "outputs": []
    },
    {
      "cell_type": "markdown",
      "id": "0b549cfa",
      "metadata": {
        "id": "0b549cfa"
      },
      "source": [
        "The following two libraries are essential to access online data files and handle JSON and GeoJSON files. Here we will use a more popular (and more stable) module called `requests` (in 2025) to access online files."
      ]
    },
    {
      "cell_type": "code",
      "execution_count": 12,
      "id": "4a511f84-724e-43cb-971d-621556333c75",
      "metadata": {
        "id": "4a511f84-724e-43cb-971d-621556333c75"
      },
      "outputs": [],
      "source": [
        "# import urllib.request as request\n",
        "import requests\n",
        "import json"
      ]
    },
    {
      "cell_type": "markdown",
      "id": "6804d46e",
      "metadata": {
        "id": "6804d46e"
      },
      "source": [
        "### Population data\n",
        "\n",
        "In addition to the POIs, we will also need to have the population data at the census block group level for Franklin county."
      ]
    },
    {
      "cell_type": "code",
      "execution_count": 14,
      "id": "5dcbd76d-93d1-4f9d-a275-e35e74600287",
      "metadata": {
        "colab": {
          "base_uri": "https://localhost:8080/"
        },
        "id": "5dcbd76d-93d1-4f9d-a275-e35e74600287",
        "outputId": "213d5379-9e2e-470e-fffa-e6ab571525ec"
      },
      "outputs": [
        {
          "output_type": "execute_result",
          "data": {
            "text/plain": [
              "887"
            ]
          },
          "metadata": {},
          "execution_count": 14
        }
      ],
      "source": [
        "\n",
        "import requests\n",
        "import json\n",
        "url = 'https://raw.githubusercontent.com/gisalgs/data/refs/heads/master/blockgrps_pop_franklin_2.geojson'\n",
        "\n",
        "blkgrps = json.loads(requests.get(url).text)\n",
        "\n",
        "len(blkgrps['features'])"
      ]
    },
    {
      "cell_type": "markdown",
      "id": "8450ec0a",
      "metadata": {
        "id": "8450ec0a"
      },
      "source": [
        "We can also try the `urllib` module as follows, but it may run into some issues on macOS.\n",
        "\n",
        "```python\n",
        "url = 'https://raw.githubusercontent.com/gisalgs/data/refs/heads/master/blockgrps_pop_franklin_2.geojson'\n",
        "with request.urlopen(url) as response:\n",
        "    blkgrps = json.loads(response.read())\n",
        "\n",
        "len(blkgrps['features'])\n",
        "```"
      ]
    },
    {
      "cell_type": "code",
      "execution_count": 15,
      "id": "6854c136-744b-468d-99c0-47122f0e1144",
      "metadata": {
        "colab": {
          "base_uri": "https://localhost:8080/"
        },
        "id": "6854c136-744b-468d-99c0-47122f0e1144",
        "outputId": "082d0b3f-e9c6-43a0-dfb0-c7bfbc348001"
      },
      "outputs": [
        {
          "output_type": "execute_result",
          "data": {
            "text/plain": [
              "dict_keys(['GEO_ID', 'STATE', 'COUNTY', 'TRACT', 'BLKGRP', 'NAME', 'Franklin_2', 'HispPct', 'Total', 'White', 'WhitePct', 'Black', 'BlkPct', 'Asian', 'AsianPct'])"
            ]
          },
          "metadata": {},
          "execution_count": 15
        }
      ],
      "source": [
        "blkgrps['features'][0]['properties'].keys()"
      ]
    },
    {
      "cell_type": "markdown",
      "id": "1f4541d1",
      "metadata": {
        "id": "1f4541d1"
      },
      "source": [
        "We are probably very eager to check how many of these census block group polygons are multiplygons. Actually all of them are!"
      ]
    },
    {
      "cell_type": "code",
      "execution_count": 16,
      "id": "4ba4e9c4-db58-42ec-9f42-3b62fc104165",
      "metadata": {
        "colab": {
          "base_uri": "https://localhost:8080/"
        },
        "id": "4ba4e9c4-db58-42ec-9f42-3b62fc104165",
        "outputId": "6286adf5-bc8b-40f1-bc6b-36cd8e4a8d0f"
      },
      "outputs": [
        {
          "output_type": "execute_result",
          "data": {
            "text/plain": [
              "887"
            ]
          },
          "metadata": {},
          "execution_count": 16
        }
      ],
      "source": [
        "\n",
        "sum([f['geometry']['type'] == 'MultiPolygon' for f in blkgrps['features']])"
      ]
    },
    {
      "cell_type": "markdown",
      "id": "41339e98",
      "metadata": {
        "id": "41339e98"
      },
      "source": [
        "So how many are actually having multiple parts? There are only two."
      ]
    },
    {
      "cell_type": "code",
      "execution_count": 17,
      "id": "bb0ffc0f-06e5-4356-9047-27bbb2caa374",
      "metadata": {
        "colab": {
          "base_uri": "https://localhost:8080/"
        },
        "id": "bb0ffc0f-06e5-4356-9047-27bbb2caa374",
        "outputId": "3a371bf7-d2a6-46f1-b1f7-2064a249214c"
      },
      "outputs": [
        {
          "output_type": "execute_result",
          "data": {
            "text/plain": [
              "2"
            ]
          },
          "metadata": {},
          "execution_count": 17
        }
      ],
      "source": [
        "sum([len(f['geometry']['coordinates'])>1 for f in blkgrps['features']])"
      ]
    },
    {
      "cell_type": "markdown",
      "id": "18849258",
      "metadata": {
        "id": "18849258"
      },
      "source": [
        "Finally, are there any polygons (or multipolygons) with holes? There is actually one. So things will get complicated when we do drawing, etc."
      ]
    },
    {
      "cell_type": "code",
      "execution_count": 18,
      "id": "e785e809-1db4-46db-bd77-61455917c6ee",
      "metadata": {
        "colab": {
          "base_uri": "https://localhost:8080/"
        },
        "id": "e785e809-1db4-46db-bd77-61455917c6ee",
        "outputId": "b88ed71e-652f-4f03-f8ab-015b63a48b75"
      },
      "outputs": [
        {
          "output_type": "execute_result",
          "data": {
            "text/plain": [
              "1"
            ]
          },
          "metadata": {},
          "execution_count": 18
        }
      ],
      "source": [
        "sum([len(f['geometry']['coordinates'][0])>1 for f in blkgrps['features']])"
      ]
    },
    {
      "cell_type": "markdown",
      "id": "7b61b6df",
      "metadata": {
        "id": "7b61b6df"
      },
      "source": [
        "Let's print out some info about this one."
      ]
    },
    {
      "cell_type": "code",
      "execution_count": 19,
      "id": "0c121508-3b0c-4043-af73-803b5356fa01",
      "metadata": {
        "colab": {
          "base_uri": "https://localhost:8080/"
        },
        "id": "0c121508-3b0c-4043-af73-803b5356fa01",
        "outputId": "ed4c1e8d-e09e-41bd-83d7-fe3d211379b9"
      },
      "outputs": [
        {
          "output_type": "stream",
          "name": "stdout",
          "text": [
            "008230 1\n"
          ]
        }
      ],
      "source": [
        "for f in blkgrps['features']:\n",
        "    if len(f['geometry']['coordinates'][0])>1:\n",
        "        print(f['properties']['TRACT'], f['properties']['BLKGRP'])"
      ]
    },
    {
      "cell_type": "markdown",
      "id": "019fcd36",
      "metadata": {
        "id": "019fcd36"
      },
      "source": [
        "We will use the population data next time."
      ]
    },
    {
      "cell_type": "markdown",
      "id": "52ccadd3",
      "metadata": {
        "id": "52ccadd3"
      },
      "source": [
        "### POI data\n",
        "\n",
        "Now we get the POI data, which can be either from the github data repo as below. Or we can download the data from the city's link and save it to an online location that is publicly accessible and use the link from there."
      ]
    },
    {
      "cell_type": "code",
      "execution_count": 20,
      "id": "072fe65e",
      "metadata": {
        "colab": {
          "base_uri": "https://localhost:8080/"
        },
        "id": "072fe65e",
        "outputId": "a87875d6-8370-44bb-9f6b-ae39c44e2ee0"
      },
      "outputs": [
        {
          "output_type": "execute_result",
          "data": {
            "text/plain": [
              "15940"
            ]
          },
          "metadata": {},
          "execution_count": 20
        }
      ],
      "source": [
        "url = 'https://raw.githubusercontent.com/gisalgs/data/refs/heads/master/columbus_points_of_interest.geojson'\n",
        "\n",
        "poi = json.loads(requests.get(url).text)\n",
        "\n",
        "len(poi['features'])"
      ]
    },
    {
      "cell_type": "markdown",
      "id": "c304244c-74d3-469c-bc8f-c4fab1e3f55a",
      "metadata": {
        "id": "c304244c-74d3-469c-bc8f-c4fab1e3f55a"
      },
      "source": [
        "Explore the types of geometry in the POI data."
      ]
    },
    {
      "cell_type": "code",
      "execution_count": 21,
      "id": "d24510e1-68bb-4b3d-b97f-66feb188e12f",
      "metadata": {
        "colab": {
          "base_uri": "https://localhost:8080/"
        },
        "id": "d24510e1-68bb-4b3d-b97f-66feb188e12f",
        "outputId": "8456b351-f694-45b6-9f2b-4703fbf67ef6"
      },
      "outputs": [
        {
          "output_type": "execute_result",
          "data": {
            "text/plain": [
              "['Point']"
            ]
          },
          "metadata": {},
          "execution_count": 21
        }
      ],
      "source": [
        "geom_types = []\n",
        "for p in poi['features']:\n",
        "    t = p['geometry']['type']\n",
        "    if t not in geom_types:\n",
        "        geom_types.append(t)\n",
        "\n",
        "geom_types"
      ]
    },
    {
      "cell_type": "markdown",
      "id": "074878fc-f775-478c-9449-fe4ee81c1e05",
      "metadata": {
        "id": "074878fc-f775-478c-9449-fe4ee81c1e05"
      },
      "source": [
        "Now we know all the features are of the same type: Point. Let's know explore the attributes a little bit before we draw the map."
      ]
    },
    {
      "cell_type": "code",
      "execution_count": 22,
      "id": "e0063a81-2493-47ba-8363-5d92a7c10373",
      "metadata": {
        "colab": {
          "base_uri": "https://localhost:8080/"
        },
        "id": "e0063a81-2493-47ba-8363-5d92a7c10373",
        "outputId": "6832ce61-9afe-489e-cc32-9d37f85c34eb"
      },
      "outputs": [
        {
          "output_type": "execute_result",
          "data": {
            "text/plain": [
              "{'OBJECTID': 18901355,\n",
              " 'COLS_KEY': 644807,\n",
              " 'LSN': '2608 CLEVELAND AVE',\n",
              " 'POI_NAME': 'Madina Auto Sales',\n",
              " 'POI_TYPE': 'Retail - Commercial/Retail',\n",
              " 'POI_SOURCE': None,\n",
              " 'PRIMARY_USE': 'Y',\n",
              " 'ALT_GEOM': 'N',\n",
              " 'PHONE_NUM': None,\n",
              " 'GLOBALID': '{F8459369-0754-4A0E-BFA0-191384166F76}',\n",
              " 'WEBSITE': None,\n",
              " 'OB_GYN': None,\n",
              " 'PEDIATRICS': None,\n",
              " 'PRIMARY_CARE': None,\n",
              " 'SUTQ_RATING': None,\n",
              " 'SNAP': None,\n",
              " 'WIC': None}"
            ]
          },
          "metadata": {},
          "execution_count": 22
        }
      ],
      "source": [
        "p['properties']"
      ]
    },
    {
      "cell_type": "markdown",
      "id": "42972361",
      "metadata": {
        "id": "42972361"
      },
      "source": [
        "#### Getting the types\n",
        "\n"
      ]
    },
    {
      "cell_type": "code",
      "execution_count": 24,
      "id": "c4306f23-bc6b-4924-bcc8-61e9acd0de29",
      "metadata": {
        "colab": {
          "base_uri": "https://localhost:8080/"
        },
        "id": "c4306f23-bc6b-4924-bcc8-61e9acd0de29",
        "outputId": "276d2b21-f044-410f-b615-9eb2e8ac9129"
      },
      "outputs": [
        {
          "output_type": "stream",
          "name": "stdout",
          "text": [
            "Total number of types: 87\n",
            "                  Industrial - Warehouse: 120\n",
            "              Retail - Commercial/Retail: 2773\n",
            "                         Medical - Other: 594\n",
            "                        Medical - Dental: 154\n",
            "                       Retail - Services: 2252\n",
            "                     Medical - Physician: 297\n",
            "                Medical - Women's Health: 47\n",
            "                    Medical - Veterinary: 52\n",
            "                   Public Places - Other: 74\n",
            "                     Office - Non-Profit: 207\n",
            "                      Office - Corporate: 891\n",
            "        Public Places - House of Worship: 693\n",
            "           Medical - Research/Laboratory: 32\n",
            "                           Office - Bank: 172\n",
            "                  Transportation - Other: 82\n",
            "    Public Places - Theater/Concert Hall: 44\n",
            "              Industrial - Manufacturing: 188\n",
            "                      Retail - Mixed Use: 27\n",
            "Public Places - Community/Recreation Center: 63\n",
            "   Retail - Shopping Center-Neighborhood: 148\n",
            "                       Education - Other: 96\n",
            "                  Education - Elementary: 193\n",
            "           Emergency Response - Fire/EMS: 36\n",
            "             Emergency Response - Police: 26\n",
            "                      Government - State: 63\n",
            "      Industrial - Water Treatment Plant: 37\n",
            "        Group Quarters - Assisted Living: 49\n",
            "                 Retail - Fitness Center: 71\n",
            "                     Retail - Restaurant: 2901\n",
            "      Retail - Shopping Center-Community: 77\n",
            "       Retail - Shopping Center-Regional: 4\n",
            "                    Transportation - Bus: 26\n",
            "                        Retail - Grocery: 273\n",
            "          Education - College/University: 203\n",
            "               Retail - Department Store: 72\n",
            "              Retail - Convenience Store: 350\n",
            "                    Retail - Gas Station: 379\n",
            "                Transportation - Airport: 9\n",
            "                 Retail - Specialty Food: 24\n",
            "                    Retail - Hotel/Motel: 161\n",
            "                      Education - Middle: 59\n",
            "     Transportation - Parking Lot/Garage: 165\n",
            "                        Education - High: 72\n",
            "              Group Quarters - Dormitory: 80\n",
            "           Public Places - Arena/Stadium: 14\n",
            "                  Public Places - Museum: 13\n",
            "                Public Places - Cemetery: 11\n",
            "                        Medical - Clinic: 59\n",
            "       Medical - Hospital/Medical Center: 41\n",
            "           Group Quarters - Nursing Home: 23\n",
            "                 Public Places - Library: 31\n",
            "                 Retail – Specialty Food: 2\n",
            "              Retail – Commercial/Retail: 6\n",
            "                        Retail – Grocery: 1\n",
            "                    Retail – Gas Station: 3\n",
            "                     Retail – Restaurant: 9\n",
            "                     Government - County: 40\n",
            "              Emergency Response - Other: 2\n",
            "                       Government - City: 43\n",
            "             Retail – Convenience Stores: 1\n",
            "                   Education - Preschool: 141\n",
            "                     Education - Daycare: 966\n",
            "                Government - Post Office: 29\n",
            "              Industrial - Mail/Shipping: 11\n",
            "                   Industrial - Landfill: 4\n",
            "                    Retail - Restaurant : 2\n",
            " Industrial - Wastewater Treatment Plant: 12\n",
            "            Industrial - Industrial Park: 6\n",
            "                        Retail - Medical: 3\n",
            "                      Industrial - Other: 39\n",
            "                   Transportation - Rail: 10\n",
            "                Group Quarters - Shelter: 8\n",
            "             Public Places - Golf Course: 7\n",
            "                  Education - Vocational: 14\n",
            "                    Government - Federal: 11\n",
            "        Industrial - Electric Substation: 12\n",
            "              Office - Commercial/Retail: 2\n",
            "             Emergency  Response - Other: 3\n",
            "                Public Places - Historic: 2\n",
            "             Retail - Commericial/Retail: 1\n",
            "        Government - Prison/Correctional: 6\n",
            "                   Government - Military: 8\n",
            "       Public Places - Convention Center: 3\n",
            "             Retail - Convenience Store : 1\n",
            "           Public Places - Historic Site: 2\n",
            "                     Industrial - Quarry: 1\n",
            "             Public Places - Fairgrounds: 1\n"
          ]
        }
      ],
      "source": [
        "poi_types = {}\n",
        "for p in poi['features']:\n",
        "    t = p['properties']['POI_TYPE']\n",
        "    if t not in poi_types:\n",
        "        poi_types[t] = 1\n",
        "    else:\n",
        "        poi_types[t] += 1\n",
        "\n",
        "print('Total number of types:', len(poi_types))\n",
        "for t in poi_types:\n",
        "    print(f'{t:>40}: {poi_types[t]}')"
      ]
    },
    {
      "cell_type": "markdown",
      "id": "47dfb3ba",
      "metadata": {
        "id": "47dfb3ba"
      },
      "source": [
        "Make sure to follow the instructions to complete the remaining of this notebook."
      ]
    },
    {
      "cell_type": "code",
      "execution_count": 28,
      "id": "841b2642",
      "metadata": {
        "id": "841b2642"
      },
      "outputs": [],
      "source": [
        "poi_types_main = {}\n",
        "for t in poi_types:\n",
        "    tt=t.split(' - ')[0]\n",
        "    if tt not in poi_types_main:\n",
        "        poi_types_main[tt] = 1\n",
        "    else:\n",
        "        poi_types_main[tt] += 1\n",
        "\n"
      ]
    },
    {
      "cell_type": "code",
      "source": [
        "print(len(poi_types_main))"
      ],
      "metadata": {
        "colab": {
          "base_uri": "https://localhost:8080/"
        },
        "id": "5WhjWxzk9qZi",
        "outputId": "5077b3c5-8a85-48b8-b274-964194e55a74"
      },
      "id": "5WhjWxzk9qZi",
      "execution_count": 29,
      "outputs": [
        {
          "output_type": "stream",
          "name": "stdout",
          "text": [
            "17\n"
          ]
        }
      ]
    },
    {
      "cell_type": "code",
      "source": [
        "poi_types_main"
      ],
      "metadata": {
        "colab": {
          "base_uri": "https://localhost:8080/"
        },
        "id": "UCgYJCeX935K",
        "outputId": "bb5b5d8e-e77a-4d23-ca62-900144312022"
      },
      "id": "UCgYJCeX935K",
      "execution_count": 30,
      "outputs": [
        {
          "output_type": "execute_result",
          "data": {
            "text/plain": [
              "{'Industrial': 10,\n",
              " 'Retail': 18,\n",
              " 'Medical': 8,\n",
              " 'Public Places': 13,\n",
              " 'Office': 4,\n",
              " 'Transportation': 5,\n",
              " 'Education': 8,\n",
              " 'Emergency Response': 3,\n",
              " 'Government': 7,\n",
              " 'Group Quarters': 4,\n",
              " 'Retail – Specialty Food': 1,\n",
              " 'Retail – Commercial/Retail': 1,\n",
              " 'Retail – Grocery': 1,\n",
              " 'Retail – Gas Station': 1,\n",
              " 'Retail – Restaurant': 1,\n",
              " 'Retail – Convenience Stores': 1,\n",
              " 'Emergency  Response': 1}"
            ]
          },
          "metadata": {},
          "execution_count": 30
        }
      ]
    },
    {
      "cell_type": "code",
      "source": [
        "for c in 'Retail – Specialty Food':\n",
        "    print(ord(c), end=' ' if ord(c)<128 else f'({c}) ')"
      ],
      "metadata": {
        "colab": {
          "base_uri": "https://localhost:8080/"
        },
        "id": "FFHa7To6-KXm",
        "outputId": "2cf06392-e135-421f-fa1b-4bbe0c742398"
      },
      "id": "FFHa7To6-KXm",
      "execution_count": 32,
      "outputs": [
        {
          "output_type": "stream",
          "name": "stdout",
          "text": [
            "82 101 116 97 105 108 32 8211(–) 32 83 112 101 99 105 97 108 116 121 32 70 111 111 100 "
          ]
        }
      ]
    },
    {
      "cell_type": "code",
      "source": [
        "chr(8211)"
      ],
      "metadata": {
        "colab": {
          "base_uri": "https://localhost:8080/",
          "height": 35
        },
        "id": "V7EBvyG7ASoY",
        "outputId": "a4d591a3-9c5a-4141-82c0-d52049626381"
      },
      "id": "V7EBvyG7ASoY",
      "execution_count": 34,
      "outputs": [
        {
          "output_type": "execute_result",
          "data": {
            "text/plain": [
              "'–'"
            ],
            "application/vnd.google.colaboratory.intrinsic+json": {
              "type": "string"
            }
          },
          "metadata": {},
          "execution_count": 34
        }
      ]
    },
    {
      "cell_type": "code",
      "source": [
        "import re"
      ],
      "metadata": {
        "id": "Fx0D-A_O_S2F"
      },
      "id": "Fx0D-A_O_S2F",
      "execution_count": null,
      "outputs": []
    },
    {
      "cell_type": "code",
      "source": [
        "import re\n",
        "poi_types_main = {}\n",
        "for t in poi_types:\n",
        "  tt = re.split(f' - | {chr(8211)} ', t)[0]\n",
        "  if tt not in poi_types_main:\n",
        "    poi_types_main[tt] = 1\n",
        "  else:\n",
        "    poi_types_main[tt] += 1"
      ],
      "metadata": {
        "id": "G13wm3VA_Zow"
      },
      "id": "G13wm3VA_Zow",
      "execution_count": 37,
      "outputs": []
    },
    {
      "cell_type": "code",
      "source": [
        "len(poi_types_main)"
      ],
      "metadata": {
        "id": "qoKRDmTpBW5h",
        "outputId": "1c2b60bb-34ff-4bbc-da61-5fd0ac2d28eb",
        "colab": {
          "base_uri": "https://localhost:8080/"
        }
      },
      "id": "qoKRDmTpBW5h",
      "execution_count": 38,
      "outputs": [
        {
          "output_type": "execute_result",
          "data": {
            "text/plain": [
              "11"
            ]
          },
          "metadata": {},
          "execution_count": 38
        }
      ]
    },
    {
      "cell_type": "code",
      "source": [
        "poi_types_main"
      ],
      "metadata": {
        "id": "0thA6AEGBbAV",
        "outputId": "c6d9f450-c37b-4a07-f8d0-dbc7090c55be",
        "colab": {
          "base_uri": "https://localhost:8080/"
        }
      },
      "id": "0thA6AEGBbAV",
      "execution_count": 39,
      "outputs": [
        {
          "output_type": "execute_result",
          "data": {
            "text/plain": [
              "{'Industrial': 10,\n",
              " 'Retail': 24,\n",
              " 'Medical': 8,\n",
              " 'Public Places': 13,\n",
              " 'Office': 4,\n",
              " 'Transportation': 5,\n",
              " 'Education': 8,\n",
              " 'Emergency Response': 3,\n",
              " 'Government': 7,\n",
              " 'Group Quarters': 4,\n",
              " 'Emergency  Response': 1}"
            ]
          },
          "metadata": {},
          "execution_count": 39
        }
      ]
    }
  ],
  "metadata": {
    "kernelspec": {
      "display_name": "Python 3",
      "language": "python",
      "name": "python3"
    },
    "language_info": {
      "codemirror_mode": {
        "name": "ipython",
        "version": 3
      },
      "file_extension": ".py",
      "mimetype": "text/x-python",
      "name": "python",
      "nbconvert_exporter": "python",
      "pygments_lexer": "ipython3",
      "version": "3.13.7"
    },
    "colab": {
      "provenance": []
    }
  },
  "nbformat": 4,
  "nbformat_minor": 5
}